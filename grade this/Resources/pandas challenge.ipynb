{
 "cells": [
  {
   "cell_type": "code",
   "execution_count": 37,
   "metadata": {},
   "outputs": [
    {
     "name": "stdout",
     "output_type": "stream",
     "text": [
      "Requirement already satisfied: location in c:\\users\\mathe\\anaconda3\\envs\\pythondata\\lib\\site-packages (0.0.7)\n",
      "Note: you may need to restart the kernel to use updated packages.\n"
     ]
    }
   ],
   "source": [
    "pip install location"
   ]
  },
  {
   "cell_type": "code",
   "execution_count": 38,
   "metadata": {},
   "outputs": [],
   "source": [
    "# Dependencies and Setup\n",
    "import pandas as pd\n",
    "import numpy as np"
   ]
  },
  {
   "cell_type": "code",
   "execution_count": 39,
   "metadata": {},
   "outputs": [],
   "source": [
    "# File to Load \n",
    "file_to_load = \"../Resources/purchase_data.csv\""
   ]
  },
  {
   "cell_type": "code",
   "execution_count": 40,
   "metadata": {},
   "outputs": [
    {
     "data": {
      "text/plain": [
       "<function print>"
      ]
     },
     "execution_count": 40,
     "metadata": {},
     "output_type": "execute_result"
    }
   ],
   "source": [
    "# Read Purchasing File and store into Pandas data frame\n",
    "purchase_data = pd.read_csv(file_to_load)\n",
    "purchase_data = {}\n",
    "print"
   ]
  },
  {
   "cell_type": "code",
   "execution_count": 41,
   "metadata": {},
   "outputs": [
    {
     "ename": "AttributeError",
     "evalue": "'dict' object has no attribute 'loc'",
     "output_type": "error",
     "traceback": [
      "\u001b[1;31m---------------------------------------------------------------------------\u001b[0m",
      "\u001b[1;31mAttributeError\u001b[0m                            Traceback (most recent call last)",
      "\u001b[1;32m<ipython-input-41-f506901b95d4>\u001b[0m in \u001b[0;36m<module>\u001b[1;34m\u001b[0m\n\u001b[1;32m----> 1\u001b[1;33m \u001b[0mnew_file\u001b[0m \u001b[1;33m=\u001b[0m \u001b[0mpurchase_data\u001b[0m\u001b[1;33m.\u001b[0m\u001b[0mloc\u001b[0m\u001b[1;33m[\u001b[0m\u001b[1;33m:\u001b[0m \u001b[1;33m,\u001b[0m \u001b[1;34m\"SN\"\u001b[0m\u001b[1;33m]\u001b[0m\u001b[1;33m\u001b[0m\u001b[1;33m\u001b[0m\u001b[0m\n\u001b[0m\u001b[0;32m      2\u001b[0m \u001b[0mcha\u001b[0m \u001b[1;33m=\u001b[0m \u001b[0mlen\u001b[0m\u001b[1;33m(\u001b[0m\u001b[0mnew_file\u001b[0m\u001b[1;33m)\u001b[0m\u001b[1;33m\u001b[0m\u001b[1;33m\u001b[0m\u001b[0m\n\u001b[0;32m      3\u001b[0m \u001b[0mprint\u001b[0m\u001b[1;33m(\u001b[0m\u001b[1;34m\"Total Number of Players\"\u001b[0m\u001b[1;33m,\u001b[0m\u001b[0mcha\u001b[0m\u001b[1;33m)\u001b[0m\u001b[1;33m\u001b[0m\u001b[1;33m\u001b[0m\u001b[0m\n",
      "\u001b[1;31mAttributeError\u001b[0m: 'dict' object has no attribute 'loc'"
     ]
    }
   ],
   "source": [
    "new_file = purchase_data.loc[: , \"SN\"]\n",
    "cha = len(new_file)\n",
    "print(\"Total Number of Players\",cha)\n"
   ]
  },
  {
   "cell_type": "code",
   "execution_count": null,
   "metadata": {},
   "outputs": [],
   "source": [
    "#Count unique value\n",
    "g = purchase_data.groupby(\"SN\")\n",
    "p = purchase_data.loc[:, \"Purchase ID\"]\n",
    "lev = g.count()\n",
    "new = lev.count()\n",
    "print(new)"
   ]
  },
  {
   "cell_type": "code",
   "execution_count": null,
   "metadata": {},
   "outputs": [],
   "source": [
    "totp = len(p)\n",
    "print(\"Total Number of Purchases:\", totp)\n"
   ]
  },
  {
   "cell_type": "code",
   "execution_count": null,
   "metadata": {},
   "outputs": [],
   "source": [
    "purcavg = purchase_data.loc[:, \"Price\"]\n",
    "newavg = sum(purcavg)\n",
    "avgnew = len(purcavg)\n",
    "avg = newavg/avgnew\n",
    "print(\"Price Average:\",\"$\",round(avg))\n",
    "print(\"Total Revenue:\",\"$\",round(newavg))\n"
   ]
  },
  {
   "cell_type": "code",
   "execution_count": null,
   "metadata": {},
   "outputs": [],
   "source": [
    "#Mean function\n",
    "gen = pd.DataFrame(purchase_data)\n",
    "gen.items()\n",
    "malev = True;False\n",
    "femev = True;False\n",
    "othev = True;False\n",
    "malev = gen['Gender']=='Male'\n",
    "femev = gen['Gender']=='Female'\n",
    "othev = gen['Gender']=='Other / Non-Disclosed'\n",
    "newmale = gen[malev]\n",
    "newfema = gen[femev]\n",
    "newovet = gen[othev]\n",
    "maleco = newmale.count()\n",
    "femco = newfema.count()\n",
    "othco = newovet.count()\n",
    "\n",
    "genr = gen['Gender'].value_counts()/gen['Gender'].count()*100\n",
    "newgenr = round(genr)\n",
    "print(\"Percent of diffrent Gender Classes:\",newgenr)"
   ]
  },
  {
   "cell_type": "code",
   "execution_count": null,
   "metadata": {},
   "outputs": [],
   "source": [
    "print(\"Number of Males in Each Category:\",maleco)\n",
    "mprice =  newmale.loc[:,\"Price\"]\n",
    "totpm = sum(mprice)\n",
    "print(\"$\",round(totpm))"
   ]
  },
  {
   "cell_type": "code",
   "execution_count": null,
   "metadata": {},
   "outputs": [],
   "source": [
    "print(\"Number of Females in Each Category:\",femco)\n",
    "fprice = newfema.loc[:,\"Price\"]\n",
    "totf = sum(fprice)\n",
    "print(\"$\",round(totf))\n",
    "\n",
    "\n",
    "\n"
   ]
  },
  {
   "cell_type": "code",
   "execution_count": null,
   "metadata": {},
   "outputs": [],
   "source": [
    "\n",
    "print(\"Number of Other / Non-Disclosed in Each Category:\",othco)\n",
    "oprice = newovet.loc[:,\"Price\"]\n",
    "toto = sum(oprice)\n",
    "print(\"$\",round(toto))\n",
    "\n"
   ]
  }
 ],
 "metadata": {
  "kernelspec": {
   "display_name": "Python 3",
   "language": "python",
   "name": "python3"
  },
  "language_info": {
   "codemirror_mode": {
    "name": "ipython",
    "version": 3
   },
   "file_extension": ".py",
   "mimetype": "text/x-python",
   "name": "python",
   "nbconvert_exporter": "python",
   "pygments_lexer": "ipython3",
   "version": "3.6.9"
  }
 },
 "nbformat": 4,
 "nbformat_minor": 4
}
