{
 "cells": [
  {
   "cell_type": "code",
   "execution_count": 22,
   "metadata": {},
   "outputs": [],
   "source": [
    "# Dependencies and Setup\n",
    "import pandas as pd\n"
   ]
  },
  {
   "cell_type": "code",
   "execution_count": 23,
   "metadata": {},
   "outputs": [
    {
     "data": {
      "text/plain": [
       "<function print>"
      ]
     },
     "execution_count": 23,
     "metadata": {},
     "output_type": "execute_result"
    }
   ],
   "source": [
    "# File to Load (Remember to Change These)\n",
    "file = \"HeroesOfPymoli/Resources/purchase_data.csv\"\n",
    "\n",
    "# Read Purchasing File and store into Pandas data frame\n",
    "purchase = pd.read_csv(file)\n",
    "\n",
    "print"
   ]
  },
  {
   "cell_type": "code",
   "execution_count": 24,
   "metadata": {},
   "outputs": [
    {
     "name": "stdout",
     "output_type": "stream",
     "text": [
      "Total Number of Players 780\n"
     ]
    }
   ],
   "source": [
    "new_file = purchase.loc[: , \"SN\"]\n",
    "cha = len(new_file)\n",
    "print(\"Total Number of Players\",cha)\n"
   ]
  },
  {
   "cell_type": "code",
   "execution_count": 25,
   "metadata": {},
   "outputs": [
    {
     "name": "stdout",
     "output_type": "stream",
     "text": [
      "Purchase ID    576\n",
      "Age            576\n",
      "Gender         576\n",
      "Item ID        576\n",
      "Item Name      576\n",
      "Price          576\n",
      "dtype: int64\n"
     ]
    }
   ],
   "source": [
    "#Count unique value\n",
    "g = purchase.groupby(\"SN\")\n",
    "p = purchase.loc[:, \"Purchase ID\"]\n",
    "lev = g.count()\n",
    "new = lev.count()\n",
    "print(new)\n"
   ]
  },
  {
   "cell_type": "code",
   "execution_count": 26,
   "metadata": {},
   "outputs": [
    {
     "name": "stdout",
     "output_type": "stream",
     "text": [
      "Total Number of Purchases: 780\n"
     ]
    }
   ],
   "source": [
    "totp = len(p)\n",
    "print(\"Total Number of Purchases:\", totp)\n"
   ]
  },
  {
   "cell_type": "code",
   "execution_count": 27,
   "metadata": {},
   "outputs": [
    {
     "name": "stdout",
     "output_type": "stream",
     "text": [
      "Price Average: $ 3\n",
      "Total Revenue: $ 2380\n"
     ]
    }
   ],
   "source": [
    "purcavg = purchase.loc[:, \"Price\"]\n",
    "newavg = sum(purcavg)\n",
    "avgnew = len(purcavg)\n",
    "avg = newavg/avgnew\n",
    "print(\"Price Average:\",\"$\",round(avg))\n",
    "print(\"Total Revenue:\",\"$\",round(newavg))\n"
   ]
  },
  {
   "cell_type": "code",
   "execution_count": 28,
   "metadata": {},
   "outputs": [
    {
     "name": "stdout",
     "output_type": "stream",
     "text": [
      "Percent of diffrent Gender Classes: Male                     84.0\n",
      "Female                   14.0\n",
      "Other / Non-Disclosed     2.0\n",
      "Name: Gender, dtype: float64\n"
     ]
    }
   ],
   "source": [
    "#Mean function\n",
    "gen = pd.DataFrame(purchase)\n",
    "gen.items()\n",
    "malev = True;False\n",
    "femev = True;False\n",
    "othev = True;False\n",
    "malev = gen['Gender']=='Male'\n",
    "femev = gen['Gender']=='Female'\n",
    "othev = gen['Gender']=='Other / Non-Disclosed'\n",
    "newmale = gen[malev]\n",
    "newfema = gen[femev]\n",
    "newovet = gen[othev]\n",
    "maleco = newmale.count()\n",
    "femco = newfema.count()\n",
    "othco = newovet.count()\n",
    "\n",
    "genr = gen['Gender'].value_counts()/gen['Gender'].count()*100\n",
    "newgenr = round(genr)\n",
    "print(\"Percent of diffrent Gender Classes:\",newgenr)\n"
   ]
  },
  {
   "cell_type": "code",
   "execution_count": 29,
   "metadata": {},
   "outputs": [
    {
     "name": "stdout",
     "output_type": "stream",
     "text": [
      "Number of Males in Each Category: Purchase ID    652\n",
      "SN             652\n",
      "Age            652\n",
      "Gender         652\n",
      "Item ID        652\n",
      "Item Name      652\n",
      "Price          652\n",
      "dtype: int64\n",
      "$ 1968\n"
     ]
    }
   ],
   "source": [
    "print(\"Number of Males in Each Category:\",maleco)\n",
    "mprice =  newmale.loc[:,\"Price\"]\n",
    "totpm = sum(mprice)\n",
    "print(\"$\",round(totpm))\n"
   ]
  },
  {
   "cell_type": "code",
   "execution_count": 30,
   "metadata": {},
   "outputs": [
    {
     "name": "stdout",
     "output_type": "stream",
     "text": [
      "Number of Females in Each Category: Purchase ID    113\n",
      "SN             113\n",
      "Age            113\n",
      "Gender         113\n",
      "Item ID        113\n",
      "Item Name      113\n",
      "Price          113\n",
      "dtype: int64\n",
      "$ 362\n"
     ]
    }
   ],
   "source": [
    "print(\"Number of Females in Each Category:\",femco)\n",
    "fprice = newfema.loc[:,\"Price\"]\n",
    "totf = sum(fprice)\n",
    "print(\"$\",round(totf))"
   ]
  },
  {
   "cell_type": "code",
   "execution_count": 31,
   "metadata": {},
   "outputs": [
    {
     "name": "stdout",
     "output_type": "stream",
     "text": [
      "Number of Other / Non-Disclosed in Each Category: Purchase ID    15\n",
      "SN             15\n",
      "Age            15\n",
      "Gender         15\n",
      "Item ID        15\n",
      "Item Name      15\n",
      "Price          15\n",
      "dtype: int64\n",
      "$ 50\n"
     ]
    }
   ],
   "source": [
    "print(\"Number of Other / Non-Disclosed in Each Category:\",othco)\n",
    "oprice = newovet.loc[:,\"Price\"]\n",
    "toto = sum(oprice)\n",
    "print(\"$\",round(toto))\n"
   ]
  }
 ],
 "metadata": {
  "kernelspec": {
   "display_name": "Python 3",
   "language": "python",
   "name": "python3"
  },
  "language_info": {
   "codemirror_mode": {
    "name": "ipython",
    "version": 3
   },
   "file_extension": ".py",
   "mimetype": "text/x-python",
   "name": "python",
   "nbconvert_exporter": "python",
   "pygments_lexer": "ipython3",
   "version": "3.6.9"
  }
 },
 "nbformat": 4,
 "nbformat_minor": 4
}
